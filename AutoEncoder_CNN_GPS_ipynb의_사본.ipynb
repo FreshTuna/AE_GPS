{
  "nbformat": 4,
  "nbformat_minor": 0,
  "metadata": {
    "colab": {
      "name": "AutoEncoder_CNN_GPS.ipynb의 사본",
      "provenance": [],
      "collapsed_sections": [],
      "include_colab_link": true
    },
    "kernelspec": {
      "name": "python3",
      "display_name": "Python 3"
    },
    "accelerator": "GPU"
  },
  "cells": [
    {
      "cell_type": "markdown",
      "metadata": {
        "id": "view-in-github",
        "colab_type": "text"
      },
      "source": [
        "<a href=\"https://colab.research.google.com/github/FreshTuna/AE_GPS/blob/master/AutoEncoder_CNN_GPS_ipynb%EC%9D%98_%EC%82%AC%EB%B3%B8.ipynb\" target=\"_parent\"><img src=\"https://colab.research.google.com/assets/colab-badge.svg\" alt=\"Open In Colab\"/></a>"
      ]
    },
    {
      "cell_type": "code",
      "metadata": {
        "id": "BOTp2EQJ_BzM",
        "colab_type": "code",
        "colab": {}
      },
      "source": [
        "import keras\n",
        "import numpy as np\n",
        "\n",
        "import matplotlib.pyplot as plt"
      ],
      "execution_count": 1,
      "outputs": []
    },
    {
      "cell_type": "code",
      "metadata": {
        "id": "ZpqsLf09y4CY",
        "colab_type": "code",
        "colab": {
          "base_uri": "https://localhost:8080/",
          "height": 34
        },
        "outputId": "d624e913-f338-4f56-fb73-bd5b07292c31"
      },
      "source": [
        "from google.colab import drive\n",
        "drive.mount('/content/drive')"
      ],
      "execution_count": 2,
      "outputs": [
        {
          "output_type": "stream",
          "text": [
            "Mounted at /content/drive\n"
          ],
          "name": "stdout"
        }
      ]
    },
    {
      "cell_type": "code",
      "metadata": {
        "id": "j1RvJdpT5X-_",
        "colab_type": "code",
        "colab": {}
      },
      "source": [
        "data_dir = \"/content/drive/My Drive/WayPoint/FullData_Image/432-Image/Input-50/\""
      ],
      "execution_count": 3,
      "outputs": []
    },
    {
      "cell_type": "code",
      "metadata": {
        "id": "7lsmCTmn_BsU",
        "colab_type": "code",
        "colab": {}
      },
      "source": [
        "import os\n",
        "import glob\n",
        "\n",
        "os.chdir( data_dir )\n",
        "\n",
        "files = glob.glob(\"*png\")"
      ],
      "execution_count": 4,
      "outputs": []
    },
    {
      "cell_type": "code",
      "metadata": {
        "id": "zhZCju7xF3b8",
        "colab_type": "code",
        "colab": {}
      },
      "source": [
        "import cv2\n",
        "\n",
        "def get_im(path):\n",
        "  img = cv2.imread(path, 0)\n",
        "  resized = cv2.resize(img, (432, 432))\n",
        "  return resized"
      ],
      "execution_count": 5,
      "outputs": []
    },
    {
      "cell_type": "code",
      "metadata": {
        "id": "W4yti2dA_Bkp",
        "colab_type": "code",
        "colab": {}
      },
      "source": [
        "X_train = []\n",
        "\n",
        "i = 0\n",
        "for fl in files:\n",
        "    img = get_im(fl)\n",
        "    X_train.append(img)"
      ],
      "execution_count": 6,
      "outputs": []
    },
    {
      "cell_type": "code",
      "metadata": {
        "id": "zLdYpL-rG28h",
        "colab_type": "code",
        "colab": {
          "base_uri": "https://localhost:8080/",
          "height": 34
        },
        "outputId": "b06f1cfa-7020-47f7-fe14-742853ae8b8b"
      },
      "source": [
        "X_train = np.array(X_train)\n",
        "X_train = X_train.astype( 'float32' ) / 255.\n",
        "X_train = np.reshape( X_train, ( len( X_train ), 432, 432, 1 ) )\n",
        "\n",
        "print(np.array(X_train).shape)"
      ],
      "execution_count": 7,
      "outputs": [
        {
          "output_type": "stream",
          "text": [
            "(58, 432, 432, 1)\n"
          ],
          "name": "stdout"
        }
      ]
    },
    {
      "cell_type": "code",
      "metadata": {
        "id": "PRzKvnPlr9Q2",
        "colab_type": "code",
        "colab": {}
      },
      "source": [
        "Val_data_dir = \"/content/drive/My Drive/WayPoint/FullData_Image/432-Image/\""
      ],
      "execution_count": 8,
      "outputs": []
    },
    {
      "cell_type": "code",
      "metadata": {
        "id": "bwUbvJ65sDrE",
        "colab_type": "code",
        "colab": {}
      },
      "source": [
        "os.chdir( Val_data_dir )\n",
        "\n",
        "files = glob.glob(\"*png\")"
      ],
      "execution_count": 9,
      "outputs": []
    },
    {
      "cell_type": "code",
      "metadata": {
        "id": "usjeSI0isI7k",
        "colab_type": "code",
        "colab": {}
      },
      "source": [
        "X_Val = [ ]\n",
        "\n",
        "i = 0\n",
        "for fl in files:\n",
        "    img = get_im(fl)\n",
        "    X_Val.append(img)"
      ],
      "execution_count": 10,
      "outputs": []
    },
    {
      "cell_type": "code",
      "metadata": {
        "id": "QZ-EbvGDsnfw",
        "colab_type": "code",
        "colab": {
          "base_uri": "https://localhost:8080/",
          "height": 34
        },
        "outputId": "2e22f2c5-e11e-4783-ff13-1aeed361a156"
      },
      "source": [
        "X_Val = np.array(X_Val)\n",
        "X_Val = X_Val.astype( 'float32' ) / 255.\n",
        "X_Val = np.reshape( X_Val, ( len( X_Val ), 432, 432, 1 ) )\n",
        "\n",
        "print(np.array(X_Val).shape)"
      ],
      "execution_count": 11,
      "outputs": [
        {
          "output_type": "stream",
          "text": [
            "(58, 432, 432, 1)\n"
          ],
          "name": "stdout"
        }
      ]
    },
    {
      "cell_type": "code",
      "metadata": {
        "id": "Z7u_0FbF-VLL",
        "colab_type": "code",
        "colab": {}
      },
      "source": [
        "from keras.layers import Input, Conv2D, MaxPooling2D, UpSampling2D\n",
        "import keras"
      ],
      "execution_count": 12,
      "outputs": []
    },
    {
      "cell_type": "code",
      "metadata": {
        "id": "Hk8cLT6D-h-0",
        "colab_type": "code",
        "colab": {}
      },
      "source": [
        "input_img = Input(shape=(432, 432, 1))\n",
        "\n",
        "# Encoding #\n",
        "x = Conv2D( 128, ( 3, 3 ), activation = 'relu', padding = 'same' )( input_img )\n",
        "x = MaxPooling2D( ( 2, 2 ), padding = 'same' )( x )\n",
        "\n",
        "x = Conv2D( 64, ( 3, 3 ), activation = 'relu', padding = 'same' )( x )\n",
        "x = MaxPooling2D( ( 2, 2 ), padding = 'same' )( x )\n",
        "\n",
        "x = Conv2D( 32, ( 3, 3 ), activation = 'relu', padding = 'same' )( x )\n",
        "x = MaxPooling2D( ( 2, 2 ), padding = 'same' )( x )\n",
        "\n",
        "# Decoding #\n",
        "x = Conv2D( 32, ( 3, 3 ), activation = 'relu', padding = 'same' )( x )\n",
        "x = UpSampling2D( ( 2, 2 ) )( x )\n",
        "\n",
        "x = Conv2D( 64, ( 3, 3 ), activation = 'relu', padding = 'same' )( x )\n",
        "x = UpSampling2D( ( 2, 2 ) )( x )\n",
        "\n",
        "x = Conv2D( 128, ( 3, 3 ), activation = 'relu', padding = 'same' )( x )\n",
        "x = UpSampling2D( ( 2, 2 ) )( x )\n",
        "\n",
        "decoded = Conv2D( 1, ( 3, 3 ), activation = 'sigmoid', padding = 'same' )( x )"
      ],
      "execution_count": 13,
      "outputs": []
    },
    {
      "cell_type": "code",
      "metadata": {
        "id": "MfS_wWoM-pRw",
        "colab_type": "code",
        "colab": {}
      },
      "source": [
        "autoencoder = keras.models.Model( input_img, decoded )\n",
        "autoencoder.compile( optimizer = 'adam', loss = 'binary_crossentropy' )"
      ],
      "execution_count": 14,
      "outputs": []
    },
    {
      "cell_type": "code",
      "metadata": {
        "id": "R1llVVJH628v",
        "colab_type": "code",
        "colab": {
          "base_uri": "https://localhost:8080/",
          "height": 629
        },
        "outputId": "e790c622-aabe-441f-fd60-bf189f40195c"
      },
      "source": [
        "autoencoder.summary()"
      ],
      "execution_count": 15,
      "outputs": [
        {
          "output_type": "stream",
          "text": [
            "Model: \"functional_1\"\n",
            "_________________________________________________________________\n",
            "Layer (type)                 Output Shape              Param #   \n",
            "=================================================================\n",
            "input_1 (InputLayer)         [(None, 432, 432, 1)]     0         \n",
            "_________________________________________________________________\n",
            "conv2d (Conv2D)              (None, 432, 432, 128)     1280      \n",
            "_________________________________________________________________\n",
            "max_pooling2d (MaxPooling2D) (None, 216, 216, 128)     0         \n",
            "_________________________________________________________________\n",
            "conv2d_1 (Conv2D)            (None, 216, 216, 64)      73792     \n",
            "_________________________________________________________________\n",
            "max_pooling2d_1 (MaxPooling2 (None, 108, 108, 64)      0         \n",
            "_________________________________________________________________\n",
            "conv2d_2 (Conv2D)            (None, 108, 108, 32)      18464     \n",
            "_________________________________________________________________\n",
            "max_pooling2d_2 (MaxPooling2 (None, 54, 54, 32)        0         \n",
            "_________________________________________________________________\n",
            "conv2d_3 (Conv2D)            (None, 54, 54, 32)        9248      \n",
            "_________________________________________________________________\n",
            "up_sampling2d (UpSampling2D) (None, 108, 108, 32)      0         \n",
            "_________________________________________________________________\n",
            "conv2d_4 (Conv2D)            (None, 108, 108, 64)      18496     \n",
            "_________________________________________________________________\n",
            "up_sampling2d_1 (UpSampling2 (None, 216, 216, 64)      0         \n",
            "_________________________________________________________________\n",
            "conv2d_5 (Conv2D)            (None, 216, 216, 128)     73856     \n",
            "_________________________________________________________________\n",
            "up_sampling2d_2 (UpSampling2 (None, 432, 432, 128)     0         \n",
            "_________________________________________________________________\n",
            "conv2d_6 (Conv2D)            (None, 432, 432, 1)       1153      \n",
            "=================================================================\n",
            "Total params: 196,289\n",
            "Trainable params: 196,289\n",
            "Non-trainable params: 0\n",
            "_________________________________________________________________\n"
          ],
          "name": "stdout"
        }
      ]
    },
    {
      "cell_type": "code",
      "metadata": {
        "id": "-IzjXSKnH8wG",
        "colab_type": "code",
        "colab": {
          "base_uri": "https://localhost:8080/",
          "height": 1000
        },
        "outputId": "48e8285c-8c71-4537-a9a5-1f31dcaa235a"
      },
      "source": [
        "history = autoencoder.fit( X_train, X_Val, epochs = 50, batch_size = 20, shuffle = True )"
      ],
      "execution_count": 16,
      "outputs": [
        {
          "output_type": "stream",
          "text": [
            "Epoch 1/50\n",
            "2/3 [===================>..........] - ETA: 0s - loss: 0.5425WARNING:tensorflow:Callbacks method `on_train_batch_end` is slow compared to the batch time (batch time: 0.2089s vs `on_train_batch_end` time: 0.3930s). Check your callbacks.\n",
            "3/3 [==============================] - 3s 1s/step - loss: 0.4155\n",
            "Epoch 2/50\n",
            "3/3 [==============================] - 1s 491ms/step - loss: 0.0445\n",
            "Epoch 3/50\n",
            "3/3 [==============================] - 1s 489ms/step - loss: 0.0940\n",
            "Epoch 4/50\n",
            "3/3 [==============================] - 1s 489ms/step - loss: 0.0967\n",
            "Epoch 5/50\n",
            "3/3 [==============================] - 1s 488ms/step - loss: 0.0646\n",
            "Epoch 6/50\n",
            "3/3 [==============================] - 1s 493ms/step - loss: 0.0344\n",
            "Epoch 7/50\n",
            "3/3 [==============================] - 1s 496ms/step - loss: 0.0359\n",
            "Epoch 8/50\n",
            "3/3 [==============================] - 1s 497ms/step - loss: 0.0334\n",
            "Epoch 9/50\n",
            "3/3 [==============================] - 1s 495ms/step - loss: 0.0281\n",
            "Epoch 10/50\n",
            "3/3 [==============================] - 1s 492ms/step - loss: 0.0303\n",
            "Epoch 11/50\n",
            "3/3 [==============================] - 1s 494ms/step - loss: 0.0287\n",
            "Epoch 12/50\n",
            "3/3 [==============================] - 1s 495ms/step - loss: 0.0262\n",
            "Epoch 13/50\n",
            "3/3 [==============================] - 1s 498ms/step - loss: 0.0260\n",
            "Epoch 14/50\n",
            "3/3 [==============================] - 1s 499ms/step - loss: 0.0255\n",
            "Epoch 15/50\n",
            "3/3 [==============================] - 1s 499ms/step - loss: 0.0252\n",
            "Epoch 16/50\n",
            "3/3 [==============================] - 2s 500ms/step - loss: 0.0246\n",
            "Epoch 17/50\n",
            "3/3 [==============================] - 1s 499ms/step - loss: 0.0243\n",
            "Epoch 18/50\n",
            "3/3 [==============================] - 1s 498ms/step - loss: 0.0240\n",
            "Epoch 19/50\n",
            "3/3 [==============================] - 2s 501ms/step - loss: 0.0237\n",
            "Epoch 20/50\n",
            "3/3 [==============================] - 2s 502ms/step - loss: 0.0234\n",
            "Epoch 21/50\n",
            "3/3 [==============================] - 2s 505ms/step - loss: 0.0231\n",
            "Epoch 22/50\n",
            "3/3 [==============================] - 2s 504ms/step - loss: 0.0226\n",
            "Epoch 23/50\n",
            "3/3 [==============================] - 2s 502ms/step - loss: 0.0222\n",
            "Epoch 24/50\n",
            "3/3 [==============================] - 2s 504ms/step - loss: 0.0215\n",
            "Epoch 25/50\n",
            "3/3 [==============================] - 2s 507ms/step - loss: 0.0206\n",
            "Epoch 26/50\n",
            "3/3 [==============================] - 2s 510ms/step - loss: 0.0215\n",
            "Epoch 27/50\n",
            "3/3 [==============================] - 2s 509ms/step - loss: 0.0272\n",
            "Epoch 28/50\n",
            "3/3 [==============================] - 2s 509ms/step - loss: 0.0274\n",
            "Epoch 29/50\n",
            "3/3 [==============================] - 2s 508ms/step - loss: 0.0234\n",
            "Epoch 30/50\n",
            "3/3 [==============================] - 2s 509ms/step - loss: 0.0214\n",
            "Epoch 31/50\n",
            "3/3 [==============================] - 2s 512ms/step - loss: 0.0191\n",
            "Epoch 32/50\n",
            "3/3 [==============================] - 2s 516ms/step - loss: 0.0176\n",
            "Epoch 33/50\n",
            "3/3 [==============================] - 2s 516ms/step - loss: 0.0179\n",
            "Epoch 34/50\n",
            "3/3 [==============================] - 2s 515ms/step - loss: 0.0160\n",
            "Epoch 35/50\n",
            "3/3 [==============================] - 2s 518ms/step - loss: 0.0158\n",
            "Epoch 36/50\n",
            "3/3 [==============================] - 2s 518ms/step - loss: 0.0147\n",
            "Epoch 37/50\n",
            "3/3 [==============================] - 2s 516ms/step - loss: 0.0150\n",
            "Epoch 38/50\n",
            "3/3 [==============================] - 2s 517ms/step - loss: 0.0138\n",
            "Epoch 39/50\n",
            "3/3 [==============================] - 2s 520ms/step - loss: 0.0133\n",
            "Epoch 40/50\n",
            "3/3 [==============================] - 2s 521ms/step - loss: 0.0129\n",
            "Epoch 41/50\n",
            "3/3 [==============================] - 2s 522ms/step - loss: 0.0128\n",
            "Epoch 42/50\n",
            "3/3 [==============================] - 2s 526ms/step - loss: 0.0125\n",
            "Epoch 43/50\n",
            "3/3 [==============================] - 2s 522ms/step - loss: 0.0123\n",
            "Epoch 44/50\n",
            "3/3 [==============================] - 2s 526ms/step - loss: 0.0121\n",
            "Epoch 45/50\n",
            "3/3 [==============================] - 2s 524ms/step - loss: 0.0120\n",
            "Epoch 46/50\n",
            "3/3 [==============================] - 2s 521ms/step - loss: 0.0118\n",
            "Epoch 47/50\n",
            "3/3 [==============================] - 2s 528ms/step - loss: 0.0117\n",
            "Epoch 48/50\n",
            "3/3 [==============================] - 2s 526ms/step - loss: 0.0116\n",
            "Epoch 49/50\n",
            "3/3 [==============================] - 2s 527ms/step - loss: 0.0115\n",
            "Epoch 50/50\n",
            "3/3 [==============================] - 2s 525ms/step - loss: 0.0115\n"
          ],
          "name": "stdout"
        }
      ]
    },
    {
      "cell_type": "code",
      "metadata": {
        "id": "cdYGTLl0usyW",
        "colab_type": "code",
        "colab": {}
      },
      "source": [
        "Test_data_dir = \"/content/drive/My Drive/WayPoint/FullData_Image/432-Image/Test_Image/\""
      ],
      "execution_count": 17,
      "outputs": []
    },
    {
      "cell_type": "code",
      "metadata": {
        "id": "0u8-N2SRuzS7",
        "colab_type": "code",
        "colab": {}
      },
      "source": [
        "os.chdir( Test_data_dir )\n",
        "\n",
        "files = glob.glob(\"*png\")"
      ],
      "execution_count": 18,
      "outputs": []
    },
    {
      "cell_type": "code",
      "metadata": {
        "id": "_NQykBXuu2n_",
        "colab_type": "code",
        "colab": {}
      },
      "source": [
        "X_test = [ ]\n",
        "\n",
        "i = 0\n",
        "for fl in files:\n",
        "    img = get_im(fl)\n",
        "    X_test.append(img)"
      ],
      "execution_count": 19,
      "outputs": []
    },
    {
      "cell_type": "code",
      "metadata": {
        "id": "s_TVYib2wuSs",
        "colab_type": "code",
        "colab": {
          "base_uri": "https://localhost:8080/",
          "height": 164
        },
        "outputId": "c1de7bf0-cdd3-4b5a-9e77-29677bcd6931"
      },
      "source": [
        ""
      ],
      "execution_count": 20,
      "outputs": [
        {
          "output_type": "error",
          "ename": "AttributeError",
          "evalue": "ignored",
          "traceback": [
            "\u001b[0;31m---------------------------------------------------------------------------\u001b[0m",
            "\u001b[0;31mAttributeError\u001b[0m                            Traceback (most recent call last)",
            "\u001b[0;32m<ipython-input-20-0362b41f238e>\u001b[0m in \u001b[0;36m<module>\u001b[0;34m()\u001b[0m\n\u001b[0;32m----> 1\u001b[0;31m \u001b[0mprint\u001b[0m\u001b[0;34m(\u001b[0m\u001b[0mX_test\u001b[0m\u001b[0;34m.\u001b[0m\u001b[0mshape\u001b[0m\u001b[0;34m)\u001b[0m\u001b[0;34m\u001b[0m\u001b[0;34m\u001b[0m\u001b[0m\n\u001b[0m",
            "\u001b[0;31mAttributeError\u001b[0m: 'list' object has no attribute 'shape'"
          ]
        }
      ]
    },
    {
      "cell_type": "code",
      "metadata": {
        "id": "r47kj1j0QlL2",
        "colab_type": "code",
        "colab": {}
      },
      "source": [
        "X_test = np.array( X_test )\n",
        "X_test = X_test.astype('float32') / 255.\n",
        "X_test = np.reshape( X_test, ( len( X_test ), 432, 432, 1 ) )"
      ],
      "execution_count": 21,
      "outputs": []
    },
    {
      "cell_type": "code",
      "metadata": {
        "id": "YKbr6T_6IBx9",
        "colab_type": "code",
        "colab": {}
      },
      "source": [
        "decoded_imgs = autoencoder.predict( X_test )"
      ],
      "execution_count": 22,
      "outputs": []
    },
    {
      "cell_type": "code",
      "metadata": {
        "id": "nC0AFLCTP08h",
        "colab_type": "code",
        "colab": {
          "base_uri": "https://localhost:8080/",
          "height": 248
        },
        "outputId": "8a28e09f-0c70-4c29-fff7-bcb7d7ca06fd"
      },
      "source": [
        "import matplotlib.pyplot as plt\n",
        "\n",
        "n = 10  # 몇 개의 숫자를 나타낼 것인지\n",
        "plt.figure(figsize=(20, 4))\n",
        "for i in range(n):\n",
        "    # 원본 데이터\n",
        "    ax = plt.subplot(2, n, i + 1)\n",
        "    plt.imshow(X_test[i].reshape(432 , 432))\n",
        "    plt.gray()\n",
        "    ax.get_xaxis().set_visible(False)\n",
        "    ax.get_yaxis().set_visible(False)\n",
        "\n",
        "    # 재구성된 데이터\n",
        "    ax = plt.subplot( 2, n, i + 1 + n )\n",
        "    plt.imshow( decoded_imgs[i].reshape( 432, 432 ) )\n",
        "    plt.gray()\n",
        "    ax.get_xaxis().set_visible( False )\n",
        "    ax.get_yaxis().set_visible( False )\n",
        "plt.show()"
      ],
      "execution_count": 23,
      "outputs": [
        {
          "output_type": "display_data",
          "data": {
            "image/png": "[encoded data removed]",
            "text/plain": [
              "<Figure size 1440x288 with 20 Axes>"
            ]
          },
          "metadata": {
            "tags": [],
            "needs_background": "light"
          }
        }
      ]
    }
  ]
}